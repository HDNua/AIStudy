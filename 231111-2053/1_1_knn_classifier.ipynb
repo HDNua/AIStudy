{
 "cells": [
  {
   "cell_type": "code",
   "execution_count": 1,
   "id": "f4af4ab3-585b-4cf7-9ba9-195ebf6efd2b",
   "metadata": {},
   "outputs": [],
   "source": [
    "import matplotlib.pyplot as plt\n",
    "from sklearn import datasets\n",
    "from sklearn.neighbors import KNeighborsClassifier\n",
    "from sklearn.model_selection import train_test_split\n",
    "from matplotlib.colors import ListedColormap\n",
    "import numpy as np"
   ]
  },
  {
   "cell_type": "code",
   "execution_count": 2,
   "id": "35b5d20d-0d29-4cca-9f86-256fe9bb4841",
   "metadata": {},
   "outputs": [],
   "source": [
    "class SimpleKNN:\n",
    "    def __init__(self, k=3):\n",
    "        self.k = k\n",
    "\n",
    "    def fit(self, X, y):\n",
    "        self.X_train = X\n",
    "        self.y_train = y\n",
    "\n",
    "    def predict(self, X):\n",
    "        predictions = [self._predict(x) for x in X]\n",
    "        return np.array(predictions)\n",
    "\n",
    "    def _predict(self, x):\n",
    "        # 거리 계산\n",
    "        distances = [np.sqrt(np.sum((x_train - x) ** 2)) for x_train in self.X_train]\n",
    "        display(len(distances))\n",
    "        \n",
    "        # k개의 가장 가까운 이웃 찾기\n",
    "        k_indices = np.argsort(distances)[:self.k]\n",
    "        display(f'k_indices = {k_indices}')\n",
    "\n",
    "        #\n",
    "        k_nearest_labels = [self.y_train[i] for i in k_indices]\n",
    "        display(f'k_nearest_labels = {k_nearest_labels}')\n",
    "        \n",
    "        # 가장 흔한 클래스 찾기\n",
    "        most_common = max(set(k_nearest_labels), key=k_nearest_labels.count)\n",
    "        display(f'set(k_nearest_labels) = {set(k_nearest_labels)}')\n",
    "        display(f'k_nearest_labels.count = {k_nearest_labels.count}')\n",
    "        display(f'most_common = {most_common}')\n",
    "\n",
    "        #\n",
    "        return most_common\n"
   ]
  },
  {
   "cell_type": "code",
   "execution_count": 3,
   "id": "3a8d698e-a9a8-4bce-8919-27833402bc77",
   "metadata": {},
   "outputs": [
    {
     "data": {
      "text/plain": [
       "(150, 4)"
      ]
     },
     "metadata": {},
     "output_type": "display_data"
    },
    {
     "data": {
      "text/plain": [
       "(150,)"
      ]
     },
     "metadata": {},
     "output_type": "display_data"
    }
   ],
   "source": [
    "# 예제 데이터 (아이리스 데이터셋)\n",
    "iris = datasets.load_iris()\n",
    "X, y = iris.data, iris.target\n",
    "\n",
    "display(X.shape)\n",
    "display(y.shape)"
   ]
  },
  {
   "cell_type": "code",
   "execution_count": 4,
   "id": "df84ab31-f973-4d9a-b582-fe91dd1aff1b",
   "metadata": {},
   "outputs": [],
   "source": [
    "# KNN 모델 생성 및 학습\n",
    "knn = SimpleKNN(k=3)\n",
    "knn.fit(X, y)"
   ]
  },
  {
   "cell_type": "code",
   "execution_count": 5,
   "id": "dcabf13d-aba4-4926-bb39-06c1edabcdaa",
   "metadata": {},
   "outputs": [
    {
     "data": {
      "text/plain": [
       "[array([7. , 3.2, 4.7, 1.4]), array([6.3, 3.3, 6. , 2.5])]"
      ]
     },
     "metadata": {},
     "output_type": "display_data"
    }
   ],
   "source": [
    "X_test = [X[50], X[100]]  # 예시 데이터 포인트\n",
    "display(X_test)"
   ]
  },
  {
   "cell_type": "code",
   "execution_count": 6,
   "id": "ac054d63-3e7b-41cd-8022-29747bf3bb94",
   "metadata": {},
   "outputs": [
    {
     "data": {
      "text/plain": [
       "150"
      ]
     },
     "metadata": {},
     "output_type": "display_data"
    },
    {
     "data": {
      "text/plain": [
       "'k_indices = [50 52 86]'"
      ]
     },
     "metadata": {},
     "output_type": "display_data"
    },
    {
     "data": {
      "text/plain": [
       "'k_nearest_labels = [1, 1, 1]'"
      ]
     },
     "metadata": {},
     "output_type": "display_data"
    },
    {
     "data": {
      "text/plain": [
       "'set(k_nearest_labels) = {1}'"
      ]
     },
     "metadata": {},
     "output_type": "display_data"
    },
    {
     "data": {
      "text/plain": [
       "'k_nearest_labels.count = <built-in method count of list object at 0x000001A6FE3C2C40>'"
      ]
     },
     "metadata": {},
     "output_type": "display_data"
    },
    {
     "data": {
      "text/plain": [
       "'most_common = 1'"
      ]
     },
     "metadata": {},
     "output_type": "display_data"
    },
    {
     "data": {
      "text/plain": [
       "150"
      ]
     },
     "metadata": {},
     "output_type": "display_data"
    },
    {
     "data": {
      "text/plain": [
       "'k_indices = [100 136 144]'"
      ]
     },
     "metadata": {},
     "output_type": "display_data"
    },
    {
     "data": {
      "text/plain": [
       "'k_nearest_labels = [2, 2, 2]'"
      ]
     },
     "metadata": {},
     "output_type": "display_data"
    },
    {
     "data": {
      "text/plain": [
       "'set(k_nearest_labels) = {2}'"
      ]
     },
     "metadata": {},
     "output_type": "display_data"
    },
    {
     "data": {
      "text/plain": [
       "'k_nearest_labels.count = <built-in method count of list object at 0x000001A6FE3A4640>'"
      ]
     },
     "metadata": {},
     "output_type": "display_data"
    },
    {
     "data": {
      "text/plain": [
       "'most_common = 2'"
      ]
     },
     "metadata": {},
     "output_type": "display_data"
    },
    {
     "name": "stdout",
     "output_type": "stream",
     "text": [
      "Predictions: [1 2]\n"
     ]
    }
   ],
   "source": [
    "# 테스트 데이터 예측\n",
    "predictions = knn.predict(X_test)\n",
    "print(\"Predictions:\", predictions)"
   ]
  },
  {
   "cell_type": "code",
   "execution_count": 7,
   "id": "57408bb0-aac1-4e5d-929b-720f52d042bf",
   "metadata": {},
   "outputs": [
    {
     "data": {
      "image/png": "[encoded data removed]",
      "text/plain": [
       "<Figure size 1000x600 with 1 Axes>"
      ]
     },
     "metadata": {},
     "output_type": "display_data"
    }
   ],
   "source": [
    "# 아이리스 데이터셋 로드\n",
    "iris = datasets.load_iris()\n",
    "X = iris.data[:, :2]  # 처음 두 개의 특징만 사용 (시각화를 위해)\n",
    "y = iris.target\n",
    "\n",
    "# 훈련 데이터와 테스트 데이터 분리\n",
    "X_train, X_test, y_train, y_test = train_test_split(X, y, test_size=0.3)\n",
    "\n",
    "# K-NN 모델 생성 및 학습\n",
    "k = 3\n",
    "knn = KNeighborsClassifier(n_neighbors=k)\n",
    "knn.fit(X_train, y_train)\n",
    "\n",
    "# 시각화를 위한 설정\n",
    "x_min, x_max = X[:, 0].min() - 1, X[:, 0].max() + 1\n",
    "y_min, y_max = X[:, 1].min() - 1, X[:, 1].max() + 1\n",
    "xx, yy = np.meshgrid(np.arange(x_min, x_max, 0.1),\n",
    "                     np.arange(y_min, y_max, 0.1))\n",
    "\n",
    "# 그리드 포인트에 대한 예측\n",
    "Z = knn.predict(np.c_[xx.ravel(), yy.ravel()])\n",
    "Z = Z.reshape(xx.shape)\n",
    "\n",
    "# 색상 맵\n",
    "cmap_light = ListedColormap(['#FFAAAA', '#AAFFAA', '#AAAAFF'])\n",
    "cmap_bold = ListedColormap(['#FF0000', '#00FF00', '#0000FF'])\n",
    "\n",
    "# 결정 경계 그리기\n",
    "plt.figure(figsize=(10, 6))\n",
    "plt.contourf(xx, yy, Z, cmap=cmap_light)\n",
    "\n",
    "# 훈련 데이터 포인트 플로팅\n",
    "plt.scatter(X_train[:, 0], X_train[:, 1], c=y_train, cmap=cmap_bold, edgecolor='k', s=20)\n",
    "plt.xlim(xx.min(), xx.max())\n",
    "plt.ylim(yy.min(), yy.max())\n",
    "plt.title(f\"3-Class classification (k = {k})\")\n",
    "plt.xlabel(iris.feature_names[0])\n",
    "plt.ylabel(iris.feature_names[1])\n",
    "\n",
    "plt.show()\n",
    "\n"
   ]
  },
  {
   "cell_type": "code",
   "execution_count": null,
   "id": "d037c5f2-354d-4a4a-9d0d-2ea55c341c4d",
   "metadata": {},
   "outputs": [],
   "source": []
  }
 ],
 "metadata": {
  "kernelspec": {
   "display_name": "Python 3 (ipykernel)",
   "language": "python",
   "name": "python3"
  },
  "language_info": {
   "codemirror_mode": {
    "name": "ipython",
    "version": 3
   },
   "file_extension": ".py",
   "mimetype": "text/x-python",
   "name": "python",
   "nbconvert_exporter": "python",
   "pygments_lexer": "ipython3",
   "version": "3.11.5"
  }
 },
 "nbformat": 4,
 "nbformat_minor": 5
}
